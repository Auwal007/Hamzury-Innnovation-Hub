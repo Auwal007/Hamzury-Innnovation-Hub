{
 "cells": [
  {
   "cell_type": "code",
   "execution_count": 1,
   "metadata": {},
   "outputs": [
    {
     "name": "stdout",
     "output_type": "stream",
     "text": [
      "9\n"
     ]
    }
   ],
   "source": [
    "def multiply(x,y):\n",
    "    return x*y\n",
    "\n",
    "print(multiply(3,3))"
   ]
  },
  {
   "cell_type": "code",
   "execution_count": 2,
   "metadata": {},
   "outputs": [
    {
     "name": "stdout",
     "output_type": "stream",
     "text": [
      "4\n"
     ]
    }
   ],
   "source": [
    "# write a function that give the power of a number \n",
    "\n",
    "def power(x):\n",
    "    return x**2\n",
    "\n",
    "print(power(2))"
   ]
  },
  {
   "cell_type": "code",
   "execution_count": 4,
   "metadata": {},
   "outputs": [
    {
     "name": "stdout",
     "output_type": "stream",
     "text": [
      "Hello, my name is Muhammad and I am 22 years old.\n"
     ]
    }
   ],
   "source": [
    "name = input(\"What is your name?\")\n",
    "age = int(input(\"What is your age?\"))\n",
    "\n",
    "def introduce_self(name, age):\n",
    "    return f\"Hello, my name is {name} and I am {age} years old.\"\n",
    "\n",
    "print(introduce_self(name, age))"
   ]
  },
  {
   "cell_type": "code",
   "execution_count": null,
   "metadata": {},
   "outputs": [],
   "source": [
    " "
   ]
  }
 ],
 "metadata": {
  "kernelspec": {
   "display_name": "base",
   "language": "python",
   "name": "python3"
  },
  "language_info": {
   "codemirror_mode": {
    "name": "ipython",
    "version": 3
   },
   "file_extension": ".py",
   "mimetype": "text/x-python",
   "name": "python",
   "nbconvert_exporter": "python",
   "pygments_lexer": "ipython3",
   "version": "3.12.4"
  }
 },
 "nbformat": 4,
 "nbformat_minor": 2
}
